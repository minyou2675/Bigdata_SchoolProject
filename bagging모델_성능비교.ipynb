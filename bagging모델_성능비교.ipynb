{
  "nbformat": 4,
  "nbformat_minor": 0,
  "metadata": {
    "colab": {
      "name": "bagging모델_성능비교.ipynb",
      "provenance": [],
      "authorship_tag": "ABX9TyPjh82JTIQHgWVDUexkIIeZ",
      "include_colab_link": true
    },
    "kernelspec": {
      "name": "python3",
      "display_name": "Python 3"
    },
    "language_info": {
      "name": "python"
    }
  },
  "cells": [
    {
      "cell_type": "markdown",
      "metadata": {
        "id": "view-in-github",
        "colab_type": "text"
      },
      "source": [
        "<a href=\"https://colab.research.google.com/github/minyou2675/Bigdata_SchoolProject/blob/main/bagging%EB%AA%A8%EB%8D%B8_%EC%84%B1%EB%8A%A5%EB%B9%84%EA%B5%90.ipynb\" target=\"_parent\"><img src=\"https://colab.research.google.com/assets/colab-badge.svg\" alt=\"Open In Colab\"/></a>"
      ]
    },
    {
      "cell_type": "code",
      "execution_count": null,
      "metadata": {
        "id": "bRs7Ceoo3M62"
      },
      "outputs": [],
      "source": [
        "import os\n",
        "import pandas as pd\n",
        "import numpy as np\n",
        "from sklearn.model_selection import train_test_split"
      ]
    },
    {
      "cell_type": "code",
      "source": [
        "from google.colab import drive\n",
        "data = pd.read_csv('/content/kc_house_data.csv')"
      ],
      "metadata": {
        "id": "IeQIfBG_Dz8O"
      },
      "execution_count": null,
      "outputs": []
    },
    {
      "cell_type": "code",
      "source": [
        "data.head()"
      ],
      "metadata": {
        "colab": {
          "base_uri": "https://localhost:8080/",
          "height": 270
        },
        "id": "PMvyaAgKEIf2",
        "outputId": "12c80fa1-7edf-429a-b662-0c2d29ebdd51"
      },
      "execution_count": null,
      "outputs": [
        {
          "output_type": "execute_result",
          "data": {
            "text/plain": [
              "           id             date     price  bedrooms  bathrooms  floors  \\\n",
              "0  7129300520  20141013T000000  221900.0         3       1.00     1.0   \n",
              "1  6414100192  20141209T000000  538000.0         3       2.25     2.0   \n",
              "2  5631500400  20150225T000000  180000.0         2       1.00     1.0   \n",
              "3  2487200875  20141209T000000  604000.0         4       3.00     1.0   \n",
              "4  1954400510  20150218T000000  510000.0         3       2.00     1.0   \n",
              "\n",
              "   waterfront  condition  grade  yr_built  yr_renovated  zipcode      lat  \\\n",
              "0           0          3      7      1955             0    98178  47.5112   \n",
              "1           0          3      7      1951          1991    98125  47.7210   \n",
              "2           0          3      6      1933             0    98028  47.7379   \n",
              "3           0          5      7      1965             0    98136  47.5208   \n",
              "4           0          3      8      1987             0    98074  47.6168   \n",
              "\n",
              "      long  \n",
              "0 -122.257  \n",
              "1 -122.319  \n",
              "2 -122.233  \n",
              "3 -122.393  \n",
              "4 -122.045  "
            ],
            "text/html": [
              "\n",
              "  <div id=\"df-8ec0ab48-a10a-47cf-8858-462bdac2a6af\">\n",
              "    <div class=\"colab-df-container\">\n",
              "      <div>\n",
              "<style scoped>\n",
              "    .dataframe tbody tr th:only-of-type {\n",
              "        vertical-align: middle;\n",
              "    }\n",
              "\n",
              "    .dataframe tbody tr th {\n",
              "        vertical-align: top;\n",
              "    }\n",
              "\n",
              "    .dataframe thead th {\n",
              "        text-align: right;\n",
              "    }\n",
              "</style>\n",
              "<table border=\"1\" class=\"dataframe\">\n",
              "  <thead>\n",
              "    <tr style=\"text-align: right;\">\n",
              "      <th></th>\n",
              "      <th>id</th>\n",
              "      <th>date</th>\n",
              "      <th>price</th>\n",
              "      <th>bedrooms</th>\n",
              "      <th>bathrooms</th>\n",
              "      <th>floors</th>\n",
              "      <th>waterfront</th>\n",
              "      <th>condition</th>\n",
              "      <th>grade</th>\n",
              "      <th>yr_built</th>\n",
              "      <th>yr_renovated</th>\n",
              "      <th>zipcode</th>\n",
              "      <th>lat</th>\n",
              "      <th>long</th>\n",
              "    </tr>\n",
              "  </thead>\n",
              "  <tbody>\n",
              "    <tr>\n",
              "      <th>0</th>\n",
              "      <td>7129300520</td>\n",
              "      <td>20141013T000000</td>\n",
              "      <td>221900.0</td>\n",
              "      <td>3</td>\n",
              "      <td>1.00</td>\n",
              "      <td>1.0</td>\n",
              "      <td>0</td>\n",
              "      <td>3</td>\n",
              "      <td>7</td>\n",
              "      <td>1955</td>\n",
              "      <td>0</td>\n",
              "      <td>98178</td>\n",
              "      <td>47.5112</td>\n",
              "      <td>-122.257</td>\n",
              "    </tr>\n",
              "    <tr>\n",
              "      <th>1</th>\n",
              "      <td>6414100192</td>\n",
              "      <td>20141209T000000</td>\n",
              "      <td>538000.0</td>\n",
              "      <td>3</td>\n",
              "      <td>2.25</td>\n",
              "      <td>2.0</td>\n",
              "      <td>0</td>\n",
              "      <td>3</td>\n",
              "      <td>7</td>\n",
              "      <td>1951</td>\n",
              "      <td>1991</td>\n",
              "      <td>98125</td>\n",
              "      <td>47.7210</td>\n",
              "      <td>-122.319</td>\n",
              "    </tr>\n",
              "    <tr>\n",
              "      <th>2</th>\n",
              "      <td>5631500400</td>\n",
              "      <td>20150225T000000</td>\n",
              "      <td>180000.0</td>\n",
              "      <td>2</td>\n",
              "      <td>1.00</td>\n",
              "      <td>1.0</td>\n",
              "      <td>0</td>\n",
              "      <td>3</td>\n",
              "      <td>6</td>\n",
              "      <td>1933</td>\n",
              "      <td>0</td>\n",
              "      <td>98028</td>\n",
              "      <td>47.7379</td>\n",
              "      <td>-122.233</td>\n",
              "    </tr>\n",
              "    <tr>\n",
              "      <th>3</th>\n",
              "      <td>2487200875</td>\n",
              "      <td>20141209T000000</td>\n",
              "      <td>604000.0</td>\n",
              "      <td>4</td>\n",
              "      <td>3.00</td>\n",
              "      <td>1.0</td>\n",
              "      <td>0</td>\n",
              "      <td>5</td>\n",
              "      <td>7</td>\n",
              "      <td>1965</td>\n",
              "      <td>0</td>\n",
              "      <td>98136</td>\n",
              "      <td>47.5208</td>\n",
              "      <td>-122.393</td>\n",
              "    </tr>\n",
              "    <tr>\n",
              "      <th>4</th>\n",
              "      <td>1954400510</td>\n",
              "      <td>20150218T000000</td>\n",
              "      <td>510000.0</td>\n",
              "      <td>3</td>\n",
              "      <td>2.00</td>\n",
              "      <td>1.0</td>\n",
              "      <td>0</td>\n",
              "      <td>3</td>\n",
              "      <td>8</td>\n",
              "      <td>1987</td>\n",
              "      <td>0</td>\n",
              "      <td>98074</td>\n",
              "      <td>47.6168</td>\n",
              "      <td>-122.045</td>\n",
              "    </tr>\n",
              "  </tbody>\n",
              "</table>\n",
              "</div>\n",
              "      <button class=\"colab-df-convert\" onclick=\"convertToInteractive('df-8ec0ab48-a10a-47cf-8858-462bdac2a6af')\"\n",
              "              title=\"Convert this dataframe to an interactive table.\"\n",
              "              style=\"display:none;\">\n",
              "        \n",
              "  <svg xmlns=\"http://www.w3.org/2000/svg\" height=\"24px\"viewBox=\"0 0 24 24\"\n",
              "       width=\"24px\">\n",
              "    <path d=\"M0 0h24v24H0V0z\" fill=\"none\"/>\n",
              "    <path d=\"M18.56 5.44l.94 2.06.94-2.06 2.06-.94-2.06-.94-.94-2.06-.94 2.06-2.06.94zm-11 1L8.5 8.5l.94-2.06 2.06-.94-2.06-.94L8.5 2.5l-.94 2.06-2.06.94zm10 10l.94 2.06.94-2.06 2.06-.94-2.06-.94-.94-2.06-.94 2.06-2.06.94z\"/><path d=\"M17.41 7.96l-1.37-1.37c-.4-.4-.92-.59-1.43-.59-.52 0-1.04.2-1.43.59L10.3 9.45l-7.72 7.72c-.78.78-.78 2.05 0 2.83L4 21.41c.39.39.9.59 1.41.59.51 0 1.02-.2 1.41-.59l7.78-7.78 2.81-2.81c.8-.78.8-2.07 0-2.86zM5.41 20L4 18.59l7.72-7.72 1.47 1.35L5.41 20z\"/>\n",
              "  </svg>\n",
              "      </button>\n",
              "      \n",
              "  <style>\n",
              "    .colab-df-container {\n",
              "      display:flex;\n",
              "      flex-wrap:wrap;\n",
              "      gap: 12px;\n",
              "    }\n",
              "\n",
              "    .colab-df-convert {\n",
              "      background-color: #E8F0FE;\n",
              "      border: none;\n",
              "      border-radius: 50%;\n",
              "      cursor: pointer;\n",
              "      display: none;\n",
              "      fill: #1967D2;\n",
              "      height: 32px;\n",
              "      padding: 0 0 0 0;\n",
              "      width: 32px;\n",
              "    }\n",
              "\n",
              "    .colab-df-convert:hover {\n",
              "      background-color: #E2EBFA;\n",
              "      box-shadow: 0px 1px 2px rgba(60, 64, 67, 0.3), 0px 1px 3px 1px rgba(60, 64, 67, 0.15);\n",
              "      fill: #174EA6;\n",
              "    }\n",
              "\n",
              "    [theme=dark] .colab-df-convert {\n",
              "      background-color: #3B4455;\n",
              "      fill: #D2E3FC;\n",
              "    }\n",
              "\n",
              "    [theme=dark] .colab-df-convert:hover {\n",
              "      background-color: #434B5C;\n",
              "      box-shadow: 0px 1px 3px 1px rgba(0, 0, 0, 0.15);\n",
              "      filter: drop-shadow(0px 1px 2px rgba(0, 0, 0, 0.3));\n",
              "      fill: #FFFFFF;\n",
              "    }\n",
              "  </style>\n",
              "\n",
              "      <script>\n",
              "        const buttonEl =\n",
              "          document.querySelector('#df-8ec0ab48-a10a-47cf-8858-462bdac2a6af button.colab-df-convert');\n",
              "        buttonEl.style.display =\n",
              "          google.colab.kernel.accessAllowed ? 'block' : 'none';\n",
              "\n",
              "        async function convertToInteractive(key) {\n",
              "          const element = document.querySelector('#df-8ec0ab48-a10a-47cf-8858-462bdac2a6af');\n",
              "          const dataTable =\n",
              "            await google.colab.kernel.invokeFunction('convertToInteractive',\n",
              "                                                     [key], {});\n",
              "          if (!dataTable) return;\n",
              "\n",
              "          const docLinkHtml = 'Like what you see? Visit the ' +\n",
              "            '<a target=\"_blank\" href=https://colab.research.google.com/notebooks/data_table.ipynb>data table notebook</a>'\n",
              "            + ' to learn more about interactive tables.';\n",
              "          element.innerHTML = '';\n",
              "          dataTable['output_type'] = 'display_data';\n",
              "          await google.colab.output.renderOutput(dataTable, element);\n",
              "          const docLink = document.createElement('div');\n",
              "          docLink.innerHTML = docLinkHtml;\n",
              "          element.appendChild(docLink);\n",
              "        }\n",
              "      </script>\n",
              "    </div>\n",
              "  </div>\n",
              "  "
            ]
          },
          "metadata": {},
          "execution_count": 6
        }
      ]
    },
    {
      "cell_type": "code",
      "source": [
        "data.shape\n",
        "n = data.shape[0]\n",
        "m = data.shape[1]\n",
        "print(n,m)"
      ],
      "metadata": {
        "colab": {
          "base_uri": "https://localhost:8080/"
        },
        "id": "_ZHWh9lBELxV",
        "outputId": "d4e6b330-cb28-49e4-c236-e0595f68007c"
      },
      "execution_count": null,
      "outputs": [
        {
          "output_type": "stream",
          "name": "stdout",
          "text": [
            "21613 14\n"
          ]
        }
      ]
    },
    {
      "cell_type": "code",
      "source": [
        "#data cleansing -> id, data, zipcode, latitude, longtitude"
      ],
      "metadata": {
        "id": "yyl5eJDbEh0r"
      },
      "execution_count": null,
      "outputs": []
    },
    {
      "cell_type": "code",
      "source": [
        "data = data.drop(['id','date','zipcode','lat','long'], axis = 1)"
      ],
      "metadata": {
        "id": "FodmEJNeE-ta"
      },
      "execution_count": null,
      "outputs": []
    },
    {
      "cell_type": "code",
      "source": [
        "m = data.shape[1]\n",
        "print (n,m)"
      ],
      "metadata": {
        "colab": {
          "base_uri": "https://localhost:8080/"
        },
        "id": "JPeelpUdFNvL",
        "outputId": "ac4557b3-4efc-4692-c9b2-f8e422cfbc64"
      },
      "execution_count": null,
      "outputs": [
        {
          "output_type": "stream",
          "name": "stdout",
          "text": [
            "21613 9\n"
          ]
        }
      ]
    },
    {
      "cell_type": "code",
      "source": [
        "#f(x) = y x는 속성-price y는 price\n",
        "#x에서 train x test x 나누고 y에서 train y test y 나누기"
      ],
      "metadata": {
        "id": "xsR0ONDFFdQD"
      },
      "execution_count": null,
      "outputs": []
    },
    {
      "cell_type": "code",
      "source": [
        "feature_columns = list(data.columns.difference(['price']))"
      ],
      "metadata": {
        "id": "HRsqvXpoGODu"
      },
      "execution_count": null,
      "outputs": []
    },
    {
      "cell_type": "code",
      "source": [
        "X = data[feature_columns]\n",
        "y = data['price']\n",
        "train_x, test_x, train_y, test_y = train_test_split(X, y, test_size = 0.3, random_state = 42)"
      ],
      "metadata": {
        "id": "eQHGvf6TGazd"
      },
      "execution_count": null,
      "outputs": []
    },
    {
      "cell_type": "code",
      "source": [
        "len(train_x), len(test_x), len(train_y), len(test_y)"
      ],
      "metadata": {
        "colab": {
          "base_uri": "https://localhost:8080/"
        },
        "id": "G9PMgeadGz-l",
        "outputId": "3b5d941f-4746-4d5e-98c1-05a9575c7051"
      },
      "execution_count": null,
      "outputs": [
        {
          "output_type": "execute_result",
          "data": {
            "text/plain": [
              "(15129, 6484, 15129, 6484)"
            ]
          },
          "metadata": {},
          "execution_count": 18
        }
      ]
    },
    {
      "cell_type": "code",
      "source": [
        "from sklearn.linear_model import LinearRegression\n",
        "regressor = LinearRegression()\n",
        "regressor.fit(train_x, train_y)\n",
        "\n",
        "train_pred = regressor.predict(train_x)\n",
        "test_pred = regressor.predict(test_x)\n",
        "\n",
        "print(train_pred, test_pred) #각각의 결과가 리스트에 나타남\n",
        "\n",
        "from sklearn.metrics import mean_squared_error\n",
        "from math import sqrt\n",
        "\n",
        "train_mse = mean_squared_error(train_pred, train_y)\n",
        "test_mse = mean_squared_error(test_pred, test_y)\n",
        "print(sqrt(train_mse), sqrt(test_mse)) #test에 error가 더 많다"
      ],
      "metadata": {
        "colab": {
          "base_uri": "https://localhost:8080/"
        },
        "id": "OQLIrFvDG-Tz",
        "outputId": "eb60dd57-dfec-4d3d-b944-08a49410fbdd"
      },
      "execution_count": null,
      "outputs": [
        {
          "output_type": "stream",
          "name": "stdout",
          "text": [
            "[ 718612.57288289  583162.20845483  580770.98393422 ...  308151.68024295\n",
            " -132165.16277028  297325.31617448] [ 562774.88835353  711422.76107068 1118395.8968444  ...  325841.31615172\n",
            "  908826.64428964  434544.24125533]\n",
            "230186.80162073454 239804.2967085815\n"
          ]
        }
      ]
    },
    {
      "cell_type": "markdown",
      "source": [
        "linear regression 했을 때 test에서 에러는 239804가 나온다"
      ],
      "metadata": {
        "id": "R_600ikRSA0r"
      }
    },
    {
      "cell_type": "code",
      "source": [
        "bagging_predict_result = []\n",
        "for _ in range (10):\n",
        "  data_index = [ i for i in range(train_x.shape[0])]\n",
        "  #print(data_index)\n",
        "  random_data_index = np.random.choice(data_index, train_x.shape[0])\n",
        "  #print(random_data_index)\n",
        "  #print(len(set(random_data_index)))\n",
        "  #print(len(set(random_data_index))/ train_x.shape[0]) #전체 데이터의 63퍼 정도를 추출 나머지 37은 추출x\n",
        "  sm_train_x = train_x.iloc[random_data_index,]\n",
        "  sm_train_y = train_y.iloc[random_data_index,]\n",
        "\n",
        "  regressor = LinearRegression()\n",
        "  regressor.fit(sm_train_x, sm_train_y)\n",
        "  sm_test_pred = regressor.predict(test_x)\n",
        "  print(sqrt(mean_squared_error(sm_test_pred, test_y)))\n",
        "  bagging_predict_result.append(sm_test_pred)\n"
      ],
      "metadata": {
        "colab": {
          "base_uri": "https://localhost:8080/"
        },
        "id": "z1PEzm5jIbnU",
        "outputId": "8b23a895-055c-40df-9efe-6c88f654b566"
      },
      "execution_count": null,
      "outputs": [
        {
          "output_type": "stream",
          "name": "stdout",
          "text": [
            "239958.4354042293\n",
            "240052.60651663702\n",
            "239816.7877902955\n",
            "240133.2092333664\n",
            "239704.15056713464\n",
            "240038.852670593\n",
            "240186.57988743132\n",
            "240514.88232149128\n",
            "239680.96074840488\n",
            "240251.62572472304\n"
          ]
        }
      ]
    },
    {
      "cell_type": "code",
      "source": [
        "bagging_predict = [] #mse저장 변수\n",
        "for i in range(test_x.shape[0]):\n",
        "  temp_predict = []\n",
        "  for j in range(len(bagging_predict_result)):\n",
        "    temp_predict.append(bagging_predict_result[j][i])\n",
        "  bagging_predict.append(np.mean(temp_predict)) #데이터를 평균내기\n",
        "\n",
        "print(sqrt(mean_squared_error(bagging_predict, test_y)))"
      ],
      "metadata": {
        "colab": {
          "base_uri": "https://localhost:8080/"
        },
        "id": "a0mQ1-mrOQS7",
        "outputId": "86f3753b-d552-4bbd-edbe-10fb1016c287"
      },
      "execution_count": null,
      "outputs": [
        {
          "output_type": "stream",
          "name": "stdout",
          "text": [
            "239746.34582940745\n"
          ]
        }
      ]
    },
    {
      "cell_type": "code",
      "source": [
        "from sklearn.ensemble import BaggingRegressor\n",
        "\n",
        "regressor = LinearRegression()\n",
        "bagging_model = BaggingRegressor(base_estimator = regressor, n_estimators = 5, verbose = 1)\n",
        "#linear regressor를 5개 사용하는 bagging regressor 만듦\n",
        "model = bagging_model.fit(train_x, train_y)\n",
        "pred = model.predict(test_x)\n",
        "print(sqrt(mean_squared_error(pred, test_y)))\n"
      ],
      "metadata": {
        "colab": {
          "base_uri": "https://localhost:8080/"
        },
        "id": "h_1lHi2AOcnc",
        "outputId": "4d2d1c94-d606-447f-cb5e-8c36e84d342b"
      },
      "execution_count": null,
      "outputs": [
        {
          "output_type": "stream",
          "name": "stdout",
          "text": [
            "239845.3351248124\n"
          ]
        },
        {
          "output_type": "stream",
          "name": "stderr",
          "text": [
            "[Parallel(n_jobs=1)]: Using backend SequentialBackend with 1 concurrent workers.\n",
            "[Parallel(n_jobs=1)]: Done   1 out of   1 | elapsed:    0.1s finished\n",
            "[Parallel(n_jobs=1)]: Using backend SequentialBackend with 1 concurrent workers.\n",
            "[Parallel(n_jobs=1)]: Done   1 out of   1 | elapsed:    0.0s finished\n"
          ]
        }
      ]
    },
    {
      "cell_type": "markdown",
      "source": [
        "에러가 239845으로 아주 살짝 증가하였다."
      ],
      "metadata": {
        "id": "1JghQJm1RsnP"
      }
    },
    {
      "cell_type": "code",
      "source": [
        "bagging_model = BaggingRegressor(base_estimator = regressor, n_estimators = 30, verbose = 1)\n",
        "#linear regressor를 5개 사용하는 bagging regressor 만듦\n",
        "model = bagging_model.fit(train_x, train_y)\n",
        "pred = model.predict(test_x)\n",
        "print(sqrt(mean_squared_error(pred, test_y)))\n"
      ],
      "metadata": {
        "colab": {
          "base_uri": "https://localhost:8080/"
        },
        "id": "fkvXcygFRxBq",
        "outputId": "4320841c-654c-49da-a4b0-a166e2595ebc"
      },
      "execution_count": null,
      "outputs": [
        {
          "output_type": "stream",
          "name": "stderr",
          "text": [
            "[Parallel(n_jobs=1)]: Using backend SequentialBackend with 1 concurrent workers.\n"
          ]
        },
        {
          "output_type": "stream",
          "name": "stdout",
          "text": [
            "239793.80986012478\n"
          ]
        },
        {
          "output_type": "stream",
          "name": "stderr",
          "text": [
            "[Parallel(n_jobs=1)]: Done   1 out of   1 | elapsed:    0.5s finished\n",
            "[Parallel(n_jobs=1)]: Using backend SequentialBackend with 1 concurrent workers.\n",
            "[Parallel(n_jobs=1)]: Done   1 out of   1 | elapsed:    0.0s finished\n"
          ]
        }
      ]
    },
    {
      "cell_type": "markdown",
      "source": [
        "30번으로 증가 시켰을 때 에러는 239793으로 아주 조금 개선되었다.\\\n",
        "bagging은 linear regression보단 \\decision tree를 적용시키는게 더 적합하다\n"
      ],
      "metadata": {
        "id": "nWu-TET6R5t5"
      }
    },
    {
      "cell_type": "code",
      "source": [
        "from sklearn.tree import DecisionTreeRegressor #decision tree 불러옴\n",
        "\n",
        "decision_tree = DecisionTreeRegressor()\n",
        "model1 = decision_tree.fit(train_x, train_y)\n",
        "pred1 = model1.predict(test_x)\n",
        "print(sqrt(mean_squared_error(pred1, test_y)))"
      ],
      "metadata": {
        "colab": {
          "base_uri": "https://localhost:8080/"
        },
        "id": "J3TcAe8jSaWM",
        "outputId": "d067f28a-3a04-4e06-b9d5-8a54aa1213cc"
      },
      "execution_count": null,
      "outputs": [
        {
          "output_type": "stream",
          "name": "stdout",
          "text": [
            "297446.8239488033\n"
          ]
        }
      ]
    },
    {
      "cell_type": "markdown",
      "source": [
        "linear regrssion 보다 성능이 떨어지지만, default 모델이기 때문에, 파라미터를 개선하면 된다."
      ],
      "metadata": {
        "id": "r_TcGiAdS5AD"
      }
    },
    {
      "cell_type": "markdown",
      "source": [
        "*Manual Bagging with Decision Tree"
      ],
      "metadata": {
        "id": "_QjVnvM0S_ND"
      }
    },
    {
      "cell_type": "code",
      "source": [
        "bagging_predict_result = []\n",
        "for _ in range (10):\n",
        "  data_index = [ i for i in range(train_x.shape[0])]\n",
        "  #print(data_index)\n",
        "  random_data_index = np.random.choice(data_index, train_x.shape[0])\n",
        "  #print(random_data_index)\n",
        "  #print(len(set(random_data_index)))\n",
        "  #print(len(set(random_data_index))/ train_x.shape[0]) #전체 데이터의 63퍼 정도를 추출 나머지 37은 추출x\n",
        "  sm_train_x = train_x.iloc[random_data_index,]\n",
        "  sm_train_y = train_y.iloc[random_data_index,]\n",
        "\n",
        "  decision_tree = DecisionTreeRegressor()\n",
        "  decision_tree.fit(sm_train_x, sm_train_y)\n",
        "  sm_test_pred = decision_tree.predict(test_x)\n",
        "  print(sqrt(mean_squared_error(sm_test_pred, test_y)))\n",
        "  bagging_predict_result.append(sm_test_pred)"
      ],
      "metadata": {
        "colab": {
          "base_uri": "https://localhost:8080/"
        },
        "id": "QaQhBcDHTDVZ",
        "outputId": "58aa896a-8b75-4a1f-a0e9-6a8acc316fa8"
      },
      "execution_count": null,
      "outputs": [
        {
          "output_type": "stream",
          "name": "stdout",
          "text": [
            "275034.74784007727\n",
            "296262.703319783\n",
            "303699.9691675843\n",
            "296932.8618979542\n",
            "312449.76505183155\n",
            "306792.5588469935\n",
            "285720.9665617889\n",
            "286003.8156929117\n",
            "298877.67585537094\n",
            "288713.30437437334\n"
          ]
        }
      ]
    },
    {
      "cell_type": "code",
      "source": [
        "bagging_predict = [] #mse저장 변수\n",
        "for i in range(test_x.shape[0]):\n",
        "  temp_predict = []\n",
        "  for j in range(len(bagging_predict_result)):\n",
        "    temp_predict.append(bagging_predict_result[j][i])\n",
        "  bagging_predict.append(np.mean(temp_predict)) #데이터를 평균내기\n",
        "\n",
        "print(sqrt(mean_squared_error(bagging_predict, test_y)))"
      ],
      "metadata": {
        "colab": {
          "base_uri": "https://localhost:8080/"
        },
        "id": "gIYbvrFtTdfj",
        "outputId": "edd96949-cd64-4d3d-fefc-7e368ba77de3"
      },
      "execution_count": null,
      "outputs": [
        {
          "output_type": "stream",
          "name": "stdout",
          "text": [
            "234328.20118182196\n"
          ]
        }
      ]
    },
    {
      "cell_type": "code",
      "source": [
        ""
      ],
      "metadata": {
        "id": "FHZYb1x3Tv7a"
      },
      "execution_count": null,
      "outputs": []
    },
    {
      "cell_type": "markdown",
      "source": [
        "오류는 234328로 지금 나온 모델 중 가장 성능이 좋다."
      ],
      "metadata": {
        "id": "R4V5QGBvTmz8"
      }
    },
    {
      "cell_type": "code",
      "source": [
        "decision_tree = DecisionTreeRegressor()\n",
        "bagging_model = BaggingRegressor(base_estimator =decision_tree, n_estimators =30, verbose = 1)\n",
        "#DecisionTree regressor를 30번 사용하는 bagging regressor 만듦\n",
        "model = bagging_model.fit(train_x, train_y)\n",
        "pred = model.predict(test_x)\n",
        "print(sqrt(mean_squared_error(pred, test_y)))\n"
      ],
      "metadata": {
        "colab": {
          "base_uri": "https://localhost:8080/"
        },
        "id": "K2yHe7ycTxxE",
        "outputId": "a4bba193-d9bd-499e-fd87-0ef8e332697a"
      },
      "execution_count": null,
      "outputs": [
        {
          "output_type": "stream",
          "name": "stderr",
          "text": [
            "[Parallel(n_jobs=1)]: Using backend SequentialBackend with 1 concurrent workers.\n"
          ]
        },
        {
          "output_type": "stream",
          "name": "stdout",
          "text": [
            "233741.29699006674\n"
          ]
        },
        {
          "output_type": "stream",
          "name": "stderr",
          "text": [
            "[Parallel(n_jobs=1)]: Done   1 out of   1 | elapsed:    1.2s finished\n",
            "[Parallel(n_jobs=1)]: Using backend SequentialBackend with 1 concurrent workers.\n",
            "[Parallel(n_jobs=1)]: Done   1 out of   1 | elapsed:    0.1s finished\n"
          ]
        }
      ]
    },
    {
      "cell_type": "markdown",
      "source": [
        "오토매틱 bagging 30회 결과 233741가 나온다. 여기서 가장 좋은 성능을 가진 모델"
      ],
      "metadata": {
        "id": "ICSeJZGyULlF"
      }
    },
    {
      "cell_type": "code",
      "source": [
        ""
      ],
      "metadata": {
        "id": "bsfFxI4RUlt8",
        "colab": {
          "base_uri": "https://localhost:8080/",
          "height": 172
        },
        "outputId": "48406fa2-6db9-4e0c-a870-4e015a2f7085"
      },
      "execution_count": null,
      "outputs": [
        {
          "output_type": "error",
          "ename": "NameError",
          "evalue": "ignored",
          "traceback": [
            "\u001b[0;31m---------------------------------------------------------------------------\u001b[0m",
            "\u001b[0;31mNameError\u001b[0m                                 Traceback (most recent call last)",
            "\u001b[0;32m<ipython-input-1-0e58727cba95>\u001b[0m in \u001b[0;36m<module>\u001b[0;34m()\u001b[0m\n\u001b[0;32m----> 1\u001b[0;31m \u001b[0maccuracy_score\u001b[0m\u001b[0;34m(\u001b[0m\u001b[0mtest_y\u001b[0m\u001b[0;34m,\u001b[0m\u001b[0mpred\u001b[0m\u001b[0;34m)\u001b[0m\u001b[0;34m\u001b[0m\u001b[0;34m\u001b[0m\u001b[0m\n\u001b[0m",
            "\u001b[0;31mNameError\u001b[0m: name 'accuracy_score' is not defined"
          ]
        }
      ]
    }
  ]
}